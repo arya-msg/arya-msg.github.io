{
 "cells": [
  {
   "cell_type": "code",
   "execution_count": 15,
   "metadata": {},
   "outputs": [],
   "source": [
    "import sqlite3\n",
    "from datetime import datetime\n",
    "\n",
    "conn = sqlite3.connect('test.db')"
   ]
  },
  {
   "cell_type": "code",
   "execution_count": 9,
   "metadata": {},
   "outputs": [
    {
     "data": {
      "text/plain": [
       "<sqlite3.Cursor at 0x1954e471ce0>"
      ]
     },
     "execution_count": 9,
     "metadata": {},
     "output_type": "execute_result"
    }
   ],
   "source": [
    "conn.execute('''CREATE TABLE Students (\n",
    "  Id INT PRIMARY KEY NOT NULL, \n",
    "  Name VARCHAR(30) NOT NULL, \n",
    "  DoB DATE NOT NULL, \n",
    "  Degree VARCHAR(20)); ''')\n",
    "  \n"
   ]
  },
  {
   "cell_type": "code",
   "execution_count": 7,
   "metadata": {},
   "outputs": [],
   "source": [
    "\n",
    "conn.close()"
   ]
  },
  {
   "cell_type": "code",
   "execution_count": 10,
   "metadata": {},
   "outputs": [],
   "source": [
    "import sqlite3\n",
    "\n",
    "conn = sqlite3.connect('test.db')\n",
    "\n",
    "conn.execute( \"INSERT INTO Students VALUES (1, 'Ashok', '2000-10-27', 'M.Tech')\" )\n",
    "\n",
    "conn.execute( \"INSERT INTO Students (Name, Id, Degree, DoB) VALUES ('Binu', 2, 'M.Tech', '2000-07-15')\" )\n",
    "\n",
    "conn.execute( \"INSERT INTO Students (Id, Name, Degree, DoB) \\\n",
    "        VALUES (3, 'Caesar', 'B.Tech', '2002-02-09')\" )\n",
    "\n",
    "conn.execute( \"INSERT INTO Students VALUES \\\n",
    "        (4, 'Daniel', '2002-02-09', 'M.C.A')\" )\n",
    "        \n",
    "conn.commit()\n",
    "\n",
    "conn.close()"
   ]
  },
  {
   "cell_type": "markdown",
   "metadata": {},
   "source": [
    "Write a program which will read the input from the user and insert values into the table. Add at least 6 more rows.\n",
    "Input format: 10 Jaydeep 2001-11-23 M.C.A\n",
    "Improvise the program to check if the input entered is in correct. Examples of incorrect input"
   ]
  },
  {
   "cell_type": "code",
   "execution_count": 16,
   "metadata": {},
   "outputs": [
    {
     "name": "stdout",
     "output_type": "stream",
     "text": [
      "Input format: id;Name;DOB(yyyy-mm-dd);Degree\n",
      "1;akhil;1990-09-09;M-Tech\n",
      "['1', 'akhil', '1990-09-09', 'M-Tech']\n"
     ]
    },
    {
     "ename": "NameError",
     "evalue": "name 'test_str' is not defined",
     "output_type": "error",
     "traceback": [
      "\u001b[1;31m---------------------------------------------------------------------------\u001b[0m",
      "\u001b[1;31mNameError\u001b[0m                                 Traceback (most recent call last)",
      "\u001b[1;32md:\\AryaMtech\\Sem2\\FSD\\Assignment\\PythonSQL\\python_to_sql.ipynb Cell 6'\u001b[0m in \u001b[0;36m<cell line: 3>\u001b[1;34m()\u001b[0m\n\u001b[0;32m     <a href='vscode-notebook-cell:/d%3A/AryaMtech/Sem2/FSD/Assignment/PythonSQL/python_to_sql.ipynb#ch0000004?line=17'>18</a>\u001b[0m res \u001b[39m=\u001b[39m \u001b[39mTrue\u001b[39;00m\n\u001b[0;32m     <a href='vscode-notebook-cell:/d%3A/AryaMtech/Sem2/FSD/Assignment/PythonSQL/python_to_sql.ipynb#ch0000004?line=18'>19</a>\u001b[0m \u001b[39mtry\u001b[39;00m:\n\u001b[1;32m---> <a href='vscode-notebook-cell:/d%3A/AryaMtech/Sem2/FSD/Assignment/PythonSQL/python_to_sql.ipynb#ch0000004?line=19'>20</a>\u001b[0m     res \u001b[39m=\u001b[39m \u001b[39mbool\u001b[39m(datetime\u001b[39m.\u001b[39mstrptime(test_str, \u001b[39mformat\u001b[39m))\n\u001b[0;32m     <a href='vscode-notebook-cell:/d%3A/AryaMtech/Sem2/FSD/Assignment/PythonSQL/python_to_sql.ipynb#ch0000004?line=20'>21</a>\u001b[0m \u001b[39mexcept\u001b[39;00m \u001b[39mValueError\u001b[39;00m:\n\u001b[0;32m     <a href='vscode-notebook-cell:/d%3A/AryaMtech/Sem2/FSD/Assignment/PythonSQL/python_to_sql.ipynb#ch0000004?line=21'>22</a>\u001b[0m     res \u001b[39m=\u001b[39m \u001b[39mFalse\u001b[39;00m\n",
      "\u001b[1;31mNameError\u001b[0m: name 'test_str' is not defined"
     ]
    }
   ],
   "source": [
    "print(\"Input format: id;Name;DOB(yyyy-mm-dd);Degree\") ## taking ; as the delimitter \n",
    "conn = sqlite3.connect('test.db')\n",
    "for x in range(6):\n",
    "    inputDetails = input('Enter the details in the format mentioned above: ')\n",
    "    print(inputDetails)\n",
    "    x = inputDetails.split(\";\")\n",
    "    print(x)\n",
    "    if x[0].isnumeric():\n",
    "        if int(x[0])  < 0:\n",
    "            raise Exception(\"Sorry, Id cant be negative.\")\n",
    "        else :\n",
    "            if len(x[1]) > 30 :\n",
    "                raise Exception(\"Name is too big. It cant exceed 30 characters.\")\n",
    "            elif len(x[1]) <= 2 or not x[1].isalpha():\n",
    "                raise Exception(\"Please enter a valid name.\")\n",
    "            else :\n",
    "                format = \"%Y-%m-%d\"\n",
    "                res = True\n",
    "                try:\n",
    "                    res = bool(datetime.strptime(x[2], format))\n",
    "                except ValueError:\n",
    "                    res = False\n",
    "                if not res :\n",
    "                    raise Exception(\"Please enter a valid date.\")\n",
    "\n",
    "\n",
    "    else :\n",
    "        raise Exception(\"Invalid number given for id.\")\n",
    "    \n",
    "    \n",
    "    query = \"INSERT INTO Students VALUES ({}, {}, {}, {})\".format(x[0], x[1], x[3],x[2])\n",
    "    conn.execute( query )\n",
    "\n",
    "conn.commit()\n",
    "\n",
    "conn.close()\n",
    "    \n",
    "\n"
   ]
  },
  {
   "cell_type": "code",
   "execution_count": 14,
   "metadata": {},
   "outputs": [
    {
     "name": "stdout",
     "output_type": "stream",
     "text": [
      "['20', 'Arya', 'M', '1988-08-08', 'Mtech']\n"
     ]
    }
   ],
   "source": [
    "x = inputDetails.split(\" \")\n",
    "print(x)"
   ]
  }
 ],
 "metadata": {
  "interpreter": {
   "hash": "d6411bd535b01718a1895443397fd0fa685e5dbadd1e93c74e5e0e96aab0231e"
  },
  "kernelspec": {
   "display_name": "Python 3.9.12 64-bit (windows store)",
   "language": "python",
   "name": "python3"
  },
  "language_info": {
   "codemirror_mode": {
    "name": "ipython",
    "version": 3
   },
   "file_extension": ".py",
   "mimetype": "text/x-python",
   "name": "python",
   "nbconvert_exporter": "python",
   "pygments_lexer": "ipython3",
   "version": "3.9.12"
  },
  "orig_nbformat": 4
 },
 "nbformat": 4,
 "nbformat_minor": 2
}
