{
 "cells": [
  {
   "cell_type": "code",
   "execution_count": 15,
   "metadata": {},
   "outputs": [],
   "source": [
    "import sqlite3\n",
    "from datetime import datetime\n",
    "\n",
    "conn = sqlite3.connect('test.db')"
   ]
  },
  {
   "cell_type": "code",
   "execution_count": 18,
   "metadata": {},
   "outputs": [
    {
     "ename": "OperationalError",
     "evalue": "table Students already exists",
     "output_type": "error",
     "traceback": [
      "\u001b[1;31m---------------------------------------------------------------------------\u001b[0m",
      "\u001b[1;31mOperationalError\u001b[0m                          Traceback (most recent call last)",
      "\u001b[1;32md:\\AryaMtech\\Sem2\\FSD\\Assignment\\PythonSQL\\python_to_sql.ipynb Cell 2'\u001b[0m in \u001b[0;36m<cell line: 1>\u001b[1;34m()\u001b[0m\n\u001b[1;32m----> <a href='vscode-notebook-cell:/d%3A/AryaMtech/Sem2/FSD/Assignment/PythonSQL/python_to_sql.ipynb#ch0000001?line=0'>1</a>\u001b[0m conn\u001b[39m.\u001b[39;49mexecute(\u001b[39m'''\u001b[39;49m\u001b[39mCREATE TABLE Students (\u001b[39;49m\n\u001b[0;32m      <a href='vscode-notebook-cell:/d%3A/AryaMtech/Sem2/FSD/Assignment/PythonSQL/python_to_sql.ipynb#ch0000001?line=1'>2</a>\u001b[0m \u001b[39m  Id INT PRIMARY KEY NOT NULL, \u001b[39;49m\n\u001b[0;32m      <a href='vscode-notebook-cell:/d%3A/AryaMtech/Sem2/FSD/Assignment/PythonSQL/python_to_sql.ipynb#ch0000001?line=2'>3</a>\u001b[0m \u001b[39m  Name VARCHAR(30) NOT NULL, \u001b[39;49m\n\u001b[0;32m      <a href='vscode-notebook-cell:/d%3A/AryaMtech/Sem2/FSD/Assignment/PythonSQL/python_to_sql.ipynb#ch0000001?line=3'>4</a>\u001b[0m \u001b[39m  DoB DATE NOT NULL, \u001b[39;49m\n\u001b[0;32m      <a href='vscode-notebook-cell:/d%3A/AryaMtech/Sem2/FSD/Assignment/PythonSQL/python_to_sql.ipynb#ch0000001?line=4'>5</a>\u001b[0m \u001b[39m  Degree VARCHAR(20)); \u001b[39;49m\u001b[39m'''\u001b[39;49m)\n",
      "\u001b[1;31mOperationalError\u001b[0m: table Students already exists"
     ]
    }
   ],
   "source": [
    "conn.execute('''CREATE TABLE Students (\n",
    "  Id INT PRIMARY KEY NOT NULL, \n",
    "  Name VARCHAR(30) NOT NULL, \n",
    "  DoB DATE NOT NULL, \n",
    "  Degree VARCHAR(20)); ''')\n",
    "  \n"
   ]
  },
  {
   "cell_type": "code",
   "execution_count": 7,
   "metadata": {},
   "outputs": [],
   "source": [
    "\n",
    "conn.close()"
   ]
  },
  {
   "cell_type": "code",
   "execution_count": 10,
   "metadata": {},
   "outputs": [],
   "source": [
    "import sqlite3\n",
    "\n",
    "conn = sqlite3.connect('test.db')\n",
    "\n",
    "conn.execute( \"INSERT INTO Students VALUES (1, 'Ashok', '2000-10-27', 'M.Tech')\" )\n",
    "\n",
    "conn.execute( \"INSERT INTO Students (Name, Id, Degree, DoB) VALUES ('Binu', 2, 'M.Tech', '2000-07-15')\" )\n",
    "\n",
    "conn.execute( \"INSERT INTO Students (Id, Name, Degree, DoB) \\\n",
    "        VALUES (3, 'Caesar', 'B.Tech', '2002-02-09')\" )\n",
    "\n",
    "conn.execute( \"INSERT INTO Students VALUES \\\n",
    "        (4, 'Daniel', '2002-02-09', 'M.C.A')\" )\n",
    "        \n",
    "conn.commit()\n",
    "\n",
    "conn.close()"
   ]
  },
  {
   "cell_type": "markdown",
   "metadata": {},
   "source": [
    "Write a program which will read the input from the user and insert values into the table. Add at least 6 more rows.\n",
    "Input format: 10 Jaydeep 2001-11-23 M.C.A\n",
    "Improvise the program to check if the input entered is in correct. Examples of incorrect input"
   ]
  },
  {
   "cell_type": "code",
   "execution_count": 23,
   "metadata": {},
   "outputs": [
    {
     "name": "stdout",
     "output_type": "stream",
     "text": [
      "Input format: id;Name;DOB(yyyy-mm-dd);Degree\n",
      "5;Arya M;1988-08-08;M-tech\n",
      "['5', 'Arya M', '1988-08-08', 'M-tech']\n",
      "INSERT INTO Students VALUES (5, 'Arya M', '1988-08-08', 'M-tech')\n",
      "6;Kathu;2014-02-07;2nd\n",
      "['6', 'Kathu', '2014-02-07', '2nd']\n",
      "INSERT INTO Students VALUES (6, 'Kathu', '2014-02-07', '2nd')\n",
      "7;Aami;2019-04-22;kg\n",
      "['7', 'Aami', '2019-04-22', 'kg']\n",
      "INSERT INTO Students VALUES (7, 'Aami', '2019-04-22', 'kg')\n",
      "8;devu;2008-07-29;mbbs\n",
      "['8', 'devu', '2008-07-29', 'mbbs']\n",
      "INSERT INTO Students VALUES (8, 'devu', '2008-07-29', 'mbbs')\n",
      "9;ammu;2014-02-16;9\n",
      "['9', 'ammu', '2014-02-16', '9']\n",
      "INSERT INTO Students VALUES (9, 'ammu', '2014-02-16', '9')\n",
      "10;kannan;2019-06-13;kg\n",
      "['10', 'kannan', '2019-06-13', 'kg']\n",
      "INSERT INTO Students VALUES (10, 'kannan', '2019-06-13', 'kg')\n"
     ]
    }
   ],
   "source": [
    "print(\"Input format: id;Name;DOB(yyyy-mm-dd);Degree\") ## taking ; as the delimitter \n",
    "conn = sqlite3.connect('test.db')\n",
    "for x in range(6):\n",
    "    inputDetails = input('Enter the details in the format mentioned above: ')\n",
    "    print(inputDetails)\n",
    "    x = inputDetails.split(\";\")\n",
    "    print(x)\n",
    "    if x[0].isnumeric():\n",
    "        if int(x[0])  < 0:\n",
    "            raise Exception(\"Sorry, Id cant be negative.\")\n",
    "        else :\n",
    "            if len(x[1]) > 30 :\n",
    "                raise Exception(\"Name is too big. It cant exceed 30 characters.\")\n",
    "            elif len(x[1]) <= 2 or not x[1].replace(\" \",\"\").isalpha():\n",
    "                raise Exception(\"Please enter a valid name.\")\n",
    "            else :\n",
    "                format = \"%Y-%m-%d\"\n",
    "                res = True\n",
    "                try:\n",
    "                    res = bool(datetime.strptime(x[2], format))\n",
    "                except ValueError:\n",
    "                    res = False\n",
    "                if not res :\n",
    "                    raise Exception(\"Please enter a valid date.\")\n",
    "\n",
    "\n",
    "    else :\n",
    "        raise Exception(\"Invalid number given for id.\")\n",
    "    \n",
    "    \n",
    "    query = \"INSERT INTO Students VALUES ({}, '{}', '{}', '{}')\".format(x[0], x[1], x[2],x[3])\n",
    "    print(query)\n",
    "    conn.execute( query )\n",
    "\n",
    "conn.commit()\n",
    "\n",
    "conn.close()\n",
    "    \n",
    "\n"
   ]
  },
  {
   "cell_type": "code",
   "execution_count": 35,
   "metadata": {},
   "outputs": [
    {
     "name": "stdout",
     "output_type": "stream",
     "text": [
      "Id =  1  | Name =  Ashok  | DoB =  2000-10-27  | Degree =  M.Tech\n",
      "Id =  2  | Name =  Binu  | DoB =  2000-07-15  | Degree =  M.Tech\n",
      "Id =  3  | Name =  Caesar  | DoB =  2002-02-09  | Degree =  B.Tech\n",
      "Id =  4  | Name =  Daniel  | DoB =  2002-02-09  | Degree =  M.C.A\n",
      "Id =  5  | Name =  Arya M  | DoB =  1988-08-08  | Degree =  M.Tech.\n",
      "Id =  6  | Name =  Kathu  | DoB =  2014-02-07  | Degree =  2nd\n",
      "Id =  7  | Name =  Aami  | DoB =  2019-04-22  | Degree =  kg\n",
      "Id =  8  | Name =  devu  | DoB =  2008-07-29  | Degree =  mbbs\n",
      "Id =  9  | Name =  ammu  | DoB =  2014-02-16  | Degree =  9\n",
      "Id =  10  | Name =  kannan  | DoB =  2019-06-13  | Degree =  kg\n"
     ]
    }
   ],
   "source": [
    "import sqlite3\n",
    "\n",
    "conn = sqlite3.connect('test.db')\n",
    "\n",
    "cursor = conn.execute(\"SELECT Id, Name, DoB, Degree FROM Students\")\n",
    "for row in cursor:\n",
    "   print( \"Id = \", row[0], \" | Name = \", row[1], \" | DoB = \", row[2], \" | Degree = \", row[3] )\n",
    "   # print( row )  # Comment out above and uncomment this, check the output\n",
    "   \n",
    "conn.close()"
   ]
  },
  {
   "cell_type": "markdown",
   "metadata": {},
   "source": [
    "Count the number of rows in the table.\n",
    "Count the number of rows who enrolled to M.Tech degree."
   ]
  },
  {
   "cell_type": "code",
   "execution_count": 30,
   "metadata": {},
   "outputs": [
    {
     "name": "stdout",
     "output_type": "stream",
     "text": [
      "10\n"
     ]
    }
   ],
   "source": [
    "\n",
    "conn = sqlite3.connect('test.db')\n",
    "\n",
    "\n",
    "cursor = conn.execute(\"SELECT count(*) FROM Students\")\n",
    "for row in cursor:\n",
    "    print(row[0])\n",
    "conn.close()\n"
   ]
  },
  {
   "cell_type": "code",
   "execution_count": 34,
   "metadata": {},
   "outputs": [
    {
     "name": "stdout",
     "output_type": "stream",
     "text": [
      "2\n"
     ]
    }
   ],
   "source": [
    "conn = sqlite3.connect('test.db')\n",
    "\n",
    "\n",
    "cursor = conn.execute(\"SELECT count(*) FROM Students where  degree ='M.Tech'\")\n",
    "for row in cursor:\n",
    "    print(row[0])\n",
    "conn.close()"
   ]
  },
  {
   "cell_type": "markdown",
   "metadata": {},
   "source": [
    "Update Table"
   ]
  },
  {
   "cell_type": "code",
   "execution_count": 36,
   "metadata": {},
   "outputs": [
    {
     "name": "stdout",
     "output_type": "stream",
     "text": [
      "Total number of rows updated : 1\n",
      "(1, 'Ashok', '2000-10-27', 'M.Tech')\n",
      "(2, 'Binu', '2000-07-15', 'M.Tech')\n",
      "(5, 'Arya M', '1988-08-08', 'M.Tech')\n"
     ]
    }
   ],
   "source": [
    "import sqlite3\n",
    "\n",
    "conn = sqlite3.connect('test.db')\n",
    "\n",
    "conn.execute(\"UPDATE Students SET Degree = 'M.Tech' WHERE Degree = 'M-tech'\")\n",
    "conn.commit()\n",
    "print(\"Total number of rows updated :\", conn.total_changes)\n",
    "\n",
    "cursor = conn.execute(\"SELECT Id, Name, DoB, Degree FROM Students WHERE Degree = 'M.Tech'\")\n",
    "for row in cursor:\n",
    "   print(row)\n",
    "\n",
    "conn.close()"
   ]
  },
  {
   "cell_type": "markdown",
   "metadata": {},
   "source": [
    "Delete"
   ]
  },
  {
   "cell_type": "code",
   "execution_count": 37,
   "metadata": {},
   "outputs": [
    {
     "name": "stdout",
     "output_type": "stream",
     "text": [
      "Total number of rows deleted : 1\n",
      "1 Ashok\n",
      "2 Binu\n",
      "3 Caesar\n",
      "5 Arya M\n",
      "6 Kathu\n",
      "7 Aami\n",
      "8 devu\n",
      "9 ammu\n",
      "10 kannan\n"
     ]
    }
   ],
   "source": [
    "import sqlite3\n",
    "\n",
    "conn = sqlite3.connect('test.db')\n",
    "\n",
    "conn.execute(\"DELETE FROM Students WHERE Id = 4\")\n",
    "conn.commit()\n",
    "print(\"Total number of rows deleted :\", conn.total_changes)\n",
    "\n",
    "cursor = conn.execute(\"SELECT * FROM Students\")\n",
    "for row in cursor:\n",
    "   print(row[0], row[1])\n",
    "\n",
    "conn.close()"
   ]
  }
 ],
 "metadata": {
  "interpreter": {
   "hash": "d6411bd535b01718a1895443397fd0fa685e5dbadd1e93c74e5e0e96aab0231e"
  },
  "kernelspec": {
   "display_name": "Python 3.9.12 64-bit (windows store)",
   "language": "python",
   "name": "python3"
  },
  "language_info": {
   "codemirror_mode": {
    "name": "ipython",
    "version": 3
   },
   "file_extension": ".py",
   "mimetype": "text/x-python",
   "name": "python",
   "nbconvert_exporter": "python",
   "pygments_lexer": "ipython3",
   "version": "3.9.12"
  },
  "orig_nbformat": 4
 },
 "nbformat": 4,
 "nbformat_minor": 2
}
